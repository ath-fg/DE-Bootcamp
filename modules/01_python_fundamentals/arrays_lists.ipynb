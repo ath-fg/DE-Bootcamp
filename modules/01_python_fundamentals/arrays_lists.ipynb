{
 "cells": [
  {
   "cell_type": "markdown",
   "metadata": {},
   "source": [
    "# Arrays/Lists: Slicing, Sorting, Array Manipulation, Multi-dimensional Arrays\n",
    "\n",
    "## Learning Objectives\n",
    "By the end of this notebook, you will be able to:\n",
    "- Create and manipulate Python lists\n",
    "- Use list slicing techniques effectively\n",
    "- Sort lists using various methods\n",
    "- Work with multi-dimensional arrays (nested lists)\n",
    "- Perform common array operations for data engineering tasks"
   ]
  },
  {
   "cell_type": "markdown",
   "metadata": {},
   "source": [
    "## 1. Creating and Basic List Operations"
   ]
  },
  {
   "cell_type": "code",
   "execution_count": 3,
   "metadata": {},
   "outputs": [
    {
     "name": "stdout",
     "output_type": "stream",
     "text": [
      "Numbers: [1, 2, 3, 4, 5]\n",
      "Names: ['Alice', 'Bob', 'Charlie']\n",
      "Mixed data: [1, 'hello', 3.14, True]\n",
      "\n",
      "Length of numbers: 5\n",
      "First element: 1\n",
      "Last element: 5\n"
     ]
    }
   ],
   "source": [
    "from typing import List, Any\n",
    "\n",
    "# Creating lists with type hints (for better code documentation)\n",
    "numbers: List[int] = [1, 2, 3, 4, 5]\n",
    "names: List[str] = [\"Alice\", \"Bob\", \"Charlie\"]\n",
    "mixed_data: List[Any] = [1, \"hello\", 3.14, True]\n",
    "\n",
    "# Creating lists without type hints (standard approach)\n",
    "simple_numbers = [1, 2, 3, 4, 5]\n",
    "simple_names = [\"Alice\", \"Bob\", \"Charlie\"]\n",
    "\n",
    "print(f\"Numbers: {numbers}\")\n",
    "print(f\"Names: {names}\")\n",
    "print(f\"Mixed data: {mixed_data}\")\n",
    "\n",
    "# List length and basic operations\n",
    "print(f\"\\nLength of numbers: {len(numbers)}\")\n",
    "print(f\"First element: {numbers[0]}\")\n",
    "print(f\"Last element: {numbers[-1]}\")"
   ]
  },
  {
   "cell_type": "markdown",
   "metadata": {},
   "source": [
    "## 2. List Slicing Techniques"
   ]
  },
  {
   "cell_type": "code",
   "execution_count": 4,
   "metadata": {},
   "outputs": [
    {
     "name": "stdout",
     "output_type": "stream",
     "text": [
      "Original data: [10, 20, 30, 40, 50, 60, 70, 80, 90, 100]\n",
      "\n",
      "First three elements: [10, 20, 30]\n",
      "Last three elements: [80, 90, 100]\n",
      "Middle elements (index 2-6): [30, 40, 50, 60, 70]\n",
      "Every second element: [10, 30, 50, 70, 90]\n",
      "Every third from index 1: [20, 50, 80]\n",
      "Reversed list: [100, 90, 80, 70, 60, 50, 40, 30, 20, 10]\n"
     ]
    }
   ],
   "source": [
    "# Sample data for slicing demonstrations\n",
    "data_points = [10, 20, 30, 40, 50, 60, 70, 80, 90, 100]\n",
    "\n",
    "print(f\"Original data: {data_points}\")\n",
    "print()\n",
    "\n",
    "# Basic slicing: [start:end]\n",
    "first_three = data_points[:3]\n",
    "print(f\"First three elements: {first_three}\")\n",
    "\n",
    "last_three = data_points[-3:]\n",
    "print(f\"Last three elements: {last_three}\")\n",
    "\n",
    "middle_elements = data_points[2:7]\n",
    "print(f\"Middle elements (index 2-6): {middle_elements}\")\n",
    "\n",
    "# Step slicing: [start:end:step]\n",
    "every_second = data_points[::2]\n",
    "print(f\"Every second element: {every_second}\")\n",
    "\n",
    "every_third_from_index_1 = data_points[1::3]\n",
    "print(f\"Every third from index 1: {every_third_from_index_1}\")\n",
    "\n",
    "# Reverse slicing\n",
    "reversed_list = data_points[::-1]\n",
    "print(f\"Reversed list: {reversed_list}\")"
   ]
  },
  {
   "cell_type": "markdown",
   "metadata": {},
   "source": [
    "## 3. Sorting Operations"
   ]
  },
  {
   "cell_type": "code",
   "execution_count": 5,
   "metadata": {},
   "outputs": [
    {
     "name": "stdout",
     "output_type": "stream",
     "text": [
      "Original numbers: [64, 34, 25, 12, 22, 11, 90]\n",
      "Original names: ['Charlie', 'Alice', 'Bob', 'David']\n",
      "\n",
      "Sorted ascending: [11, 12, 22, 25, 34, 64, 90]\n",
      "Sorted descending: [90, 64, 34, 25, 22, 12, 11]\n",
      "Original unchanged: [64, 34, 25, 12, 22, 11, 90]\n",
      "\n",
      "After sort() method: [11, 12, 22, 25, 34, 64, 90]\n",
      "Sorted names: ['Alice', 'Bob', 'Charlie', 'David']\n",
      "Sorted by length: ['Bob', 'Alice', 'David', 'Charlie']\n"
     ]
    }
   ],
   "source": [
    "# Sample unsorted data\n",
    "unsorted_numbers = [64, 34, 25, 12, 22, 11, 90]\n",
    "unsorted_names = [\"Charlie\", \"Alice\", \"Bob\", \"David\"]\n",
    "\n",
    "print(f\"Original numbers: {unsorted_numbers}\")\n",
    "print(f\"Original names: {unsorted_names}\")\n",
    "print()\n",
    "\n",
    "# Using sorted() function (creates new list)\n",
    "sorted_ascending = sorted(unsorted_numbers)\n",
    "sorted_descending = sorted(unsorted_numbers, reverse=True)\n",
    "\n",
    "print(f\"Sorted ascending: {sorted_ascending}\")\n",
    "print(f\"Sorted descending: {sorted_descending}\")\n",
    "print(f\"Original unchanged: {unsorted_numbers}\")\n",
    "print()\n",
    "\n",
    "# Using list.sort() method (modifies original list)\n",
    "numbers_copy = unsorted_numbers.copy()\n",
    "numbers_copy.sort()\n",
    "print(f\"After sort() method: {numbers_copy}\")\n",
    "\n",
    "# Sorting strings\n",
    "sorted_names = sorted(unsorted_names)\n",
    "print(f\"Sorted names: {sorted_names}\")\n",
    "\n",
    "# Sorting by length\n",
    "sorted_by_length = sorted(unsorted_names, key=len)\n",
    "print(f\"Sorted by length: {sorted_by_length}\")"
   ]
  },
  {
   "cell_type": "markdown",
   "metadata": {},
   "source": [
    "## 4. List Manipulation Operations"
   ]
  },
  {
   "cell_type": "code",
   "execution_count": 6,
   "metadata": {},
   "outputs": [
    {
     "name": "stdout",
     "output_type": "stream",
     "text": [
      "After append operations: [10, 20]\n",
      "After extend and insert: [10, 15, 20, 30, 40]\n",
      "Popped last element: 40\n",
      "List after pop(): [10, 15, 20, 30]\n",
      "Popped element at index 1: 15\n",
      "List after pop(1): [10, 20, 30]\n",
      "After remove(30): [10, 20, 30]\n",
      "\n",
      "Stack operations (Last In, First Out):\n",
      "Stack after pushes: ['first', 'second', 'third']\n",
      "Popped: third, Stack now: ['first', 'second']\n",
      "\n",
      "Search list: [1, 2, 3, 2, 4, 2, 5]\n",
      "Index of first '2': 1\n",
      "Count of '2': 3\n",
      "Is 3 in list? True\n"
     ]
    }
   ],
   "source": [
    "# Starting with an empty list\n",
    "dynamic_list = []\n",
    "\n",
    "# Adding elements with append() - adds single element to end\n",
    "dynamic_list.append(10)\n",
    "dynamic_list.append(20)\n",
    "print(f\"After append operations: {dynamic_list}\")\n",
    "\n",
    "# Adding multiple elements\n",
    "dynamic_list.extend([30, 40])  # Add multiple elements\n",
    "dynamic_list.insert(1, 15)  # Insert at specific position\n",
    "print(f\"After extend and insert: {dynamic_list}\")\n",
    "\n",
    "# Removing elements with pop() - removes and returns element\n",
    "last_element = dynamic_list.pop()  # Remove and return last element\n",
    "print(f\"Popped last element: {last_element}\")\n",
    "print(f\"List after pop(): {dynamic_list}\")\n",
    "\n",
    "element_at_index = dynamic_list.pop(1)  # Remove and return element at index 1\n",
    "print(f\"Popped element at index 1: {element_at_index}\")\n",
    "print(f\"List after pop(1): {dynamic_list}\")\n",
    "\n",
    "# Other removal methods\n",
    "dynamic_list.append(30)  # Add it back for demonstration\n",
    "dynamic_list.remove(30)  # Remove first occurrence of value\n",
    "print(f\"After remove(30): {dynamic_list}\")\n",
    "\n",
    "# Practical example: Stack operations using append() and pop()\n",
    "stack = []\n",
    "print(\"\\nStack operations (Last In, First Out):\")\n",
    "\n",
    "# Push operations (append)\n",
    "stack.append(\"first\")\n",
    "stack.append(\"second\")\n",
    "stack.append(\"third\")\n",
    "print(f\"Stack after pushes: {stack}\")\n",
    "\n",
    "# Pop operations\n",
    "item = stack.pop()\n",
    "print(f\"Popped: {item}, Stack now: {stack}\")\n",
    "\n",
    "# Finding elements\n",
    "search_list = [1, 2, 3, 2, 4, 2, 5]\n",
    "print(f\"\\nSearch list: {search_list}\")\n",
    "print(f\"Index of first '2': {search_list.index(2)}\")\n",
    "print(f\"Count of '2': {search_list.count(2)}\")\n",
    "print(f\"Is 3 in list? {3 in search_list}\")"
   ]
  },
  {
   "cell_type": "markdown",
   "metadata": {},
   "source": [
    "## 5. Multi-dimensional Arrays (Nested Lists)"
   ]
  },
  {
   "cell_type": "code",
   "execution_count": 7,
   "metadata": {},
   "outputs": [
    {
     "name": "stdout",
     "output_type": "stream",
     "text": [
      "2D Matrix:\n",
      "[1, 2, 3]\n",
      "[4, 5, 6]\n",
      "[7, 8, 9]\n",
      "\n",
      "Element at row 1, column 2: 6\n",
      "First row: [1, 2, 3]\n",
      "First column: [1, 4, 7]\n",
      "\n",
      "Sales Data:\n",
      "['Store', 'Jan', 'Feb', 'Mar']\n",
      "['Store A', 1000, 1200, 1100]\n",
      "['Store B', 800, 900, 950]\n",
      "['Store C', 1500, 1600, 1400]\n",
      "\n",
      "Store names: ['Store A', 'Store B', 'Store C']\n",
      "January sales: [1000, 800, 1500]\n",
      "Total January sales: 3300\n"
     ]
    }
   ],
   "source": [
    "# Creating a 2D array (matrix)\n",
    "matrix = [\n",
    "    [1, 2, 3],\n",
    "    [4, 5, 6],\n",
    "    [7, 8, 9]\n",
    "]\n",
    "\n",
    "print(\"2D Matrix:\")\n",
    "for row in matrix:\n",
    "    print(row)\n",
    "\n",
    "# Accessing elements in 2D array\n",
    "print(f\"\\nElement at row 1, column 2: {matrix[1][2]}\")\n",
    "print(f\"First row: {matrix[0]}\")\n",
    "print(f\"First column: {[row[0] for row in matrix]}\")\n",
    "\n",
    "# Data engineering example: Sales data by store and month\n",
    "sales_data = [\n",
    "    [\"Store\", \"Jan\", \"Feb\", \"Mar\"],  # Header row\n",
    "    [\"Store A\", 1000, 1200, 1100],\n",
    "    [\"Store B\", 800, 900, 950],\n",
    "    [\"Store C\", 1500, 1600, 1400]\n",
    "]\n",
    "\n",
    "print(\"\\nSales Data:\")\n",
    "for row in sales_data:\n",
    "    print(row)\n",
    "\n",
    "# Extract specific data\n",
    "store_names = [row[0] for row in sales_data[1:]]  # Skip header\n",
    "jan_sales = [row[1] for row in sales_data[1:]]  # January sales\n",
    "\n",
    "print(f\"\\nStore names: {store_names}\")\n",
    "print(f\"January sales: {jan_sales}\")\n",
    "print(f\"Total January sales: {sum(jan_sales)}\")"
   ]
  },
  {
   "cell_type": "markdown",
   "metadata": {},
   "source": [
    "## 6. Practical Data Engineering Examples"
   ]
  },
  {
   "cell_type": "code",
   "execution_count": 8,
   "metadata": {},
   "outputs": [
    {
     "name": "stdout",
     "output_type": "stream",
     "text": [
      "Sensor readings: [23.5, 24.1, 22.8, 25.0, 23.9, 24.3, 22.5]\n",
      "Average temperature: 23.73\n",
      "Min temperature: 22.5\n",
      "Max temperature: 25.0\n",
      "Readings above average: [24.1, 25.0, 23.9, 24.3]\n",
      "Batch queue: [100, 250, 180]\n",
      "Processed batch size: 100\n",
      "Remaining batches: [250, 180]\n",
      "\n",
      "Original data: [1, 2, None, 4, 'error', 6, 7]\n",
      "Clean data: [1, 2, 4, 6, 7]\n",
      "Removed 2 invalid items\n"
     ]
    }
   ],
   "source": [
    "# Example 1: Processing sensor readings\n",
    "sensor_readings = [23.5, 24.1, 22.8, 25.0, 23.9, 24.3, 22.5]\n",
    "\n",
    "print(f\"Sensor readings: {sensor_readings}\")\n",
    "print(f\"Average temperature: {sum(sensor_readings) / len(sensor_readings):.2f}\")\n",
    "print(f\"Min temperature: {min(sensor_readings)}\")\n",
    "print(f\"Max temperature: {max(sensor_readings)}\")\n",
    "\n",
    "# Find readings above average\n",
    "average = sum(sensor_readings) / len(sensor_readings)\n",
    "above_average = [temp for temp in sensor_readings if temp > average]\n",
    "print(f\"Readings above average: {above_average}\")\n",
    "\n",
    "# Example 2: Processing batch data with append/pop operations\n",
    "batch_queue = []  # Start with empty queue\n",
    "\n",
    "# Add batches as they arrive (append)\n",
    "batch_queue.append(100)\n",
    "batch_queue.append(250)\n",
    "batch_queue.append(180)\n",
    "print(f\"Batch queue: {batch_queue}\")\n",
    "\n",
    "# Process batches (pop from beginning for FIFO)\n",
    "processed_batch = batch_queue.pop(0)  # Remove first batch\n",
    "print(f\"Processed batch size: {processed_batch}\")\n",
    "print(f\"Remaining batches: {batch_queue}\")\n",
    "\n",
    "# Example 3: Data validation with dynamic list building\n",
    "data_with_errors = [1, 2, None, 4, \"error\", 6, 7]\n",
    "clean_data = []\n",
    "\n",
    "for item in data_with_errors:\n",
    "    if isinstance(item, int):  #isinstance() function in Python is a built-in function used to determine if an object is an instance of a specified class or type\n",
    "        clean_data.append(item)  # Build clean list dynamically\n",
    "\n",
    "print(f\"\\nOriginal data: {data_with_errors}\")\n",
    "print(f\"Clean data: {clean_data}\")\n",
    "print(f\"Removed {len(data_with_errors) - len(clean_data)} invalid items\")"
   ]
  },
  {
   "cell_type": "markdown",
   "metadata": {},
   "source": [
    "## Practice Exercises\n",
    "\n",
    "Complete the following exercises to reinforce your understanding:"
   ]
  },
  {
   "cell_type": "code",
   "execution_count": null,
   "metadata": {},
   "outputs": [],
   "source": [
    "# Exercise 1: Create a function to find the second largest number in a list\n",
    "def find_second_largest(numbers):\n",
    "    # Find the second largest number in a list.\n",
    "    \n",
    "    # Args:\n",
    "    #     numbers: List of integers\n",
    "    \n",
    "    # Returns:\n",
    "    #     Second largest number\n",
    "\n",
    "    # TODO: Implement this function\n",
    "    # Hint: You can sort the list or use max() with removal\n",
    "    pass\n",
    "\n",
    "# Test your function\n",
    "test_numbers = [64, 34, 25, 12, 22, 11, 90]\n",
    "# Expected result: 64\n",
    "# result = find_second_largest(test_numbers)\n",
    "# print(f\"Second largest: {result}\")"
   ]
  },
  {
   "cell_type": "code",
   "execution_count": null,
   "metadata": {},
   "outputs": [],
   "source": [
    "# Exercise 2: Extract a specific column from a 2D matrix\n",
    "def extract_column(matrix, column_index):\n",
    "\n",
    "    # Extract a specific column from a 2D matrix.\n",
    "    \n",
    "    # Args:\n",
    "    #     matrix: 2D list\n",
    "    #     column_index: Index of column to extract\n",
    "    \n",
    "    # Returns:\n",
    "    #     List containing the column values\n",
    "    \n",
    "    # TODO: Implement this function\n",
    "    # Hint: Use list comprehension or a loop to get matrix[row][column_index]\n",
    "    pass\n",
    "\n",
    "# Test your function\n",
    "test_matrix = [\n",
    "    [\"Name\", \"Age\", \"City\"],\n",
    "    [\"Alice\", 25, \"New York\"],\n",
    "    [\"Bob\", 30, \"London\"],\n",
    "    [\"Charlie\", 35, \"Tokyo\"]\n",
    "]\n",
    "# Expected result for column 1: [\"Age\", 25, 30, 35]\n",
    "# ages = extract_column(test_matrix, 1)\n",
    "# print(f\"Age column: {ages}\")"
   ]
  },
  {
   "cell_type": "code",
   "execution_count": null,
   "metadata": {},
   "outputs": [],
   "source": [
    "# Exercise 3: Process sales data to find top performers\n",
    "def find_top_performers(sales_data, top_n=3):\n",
    "   \n",
    "    # Find top N performers based on total sales.\n",
    "    \n",
    "    # Args:\n",
    "    #     sales_data: List where each inner list is [name, q1_sales, q2_sales, q3_sales, q4_sales]\n",
    "    #     top_n: Number of top performers to return\n",
    "    \n",
    "    # Returns:\n",
    "    #     List of top performers with their total sales\n",
    "  \n",
    "    # TODO: Implement this function\n",
    "    # Hint: Calculate total sales for each person, then sort by total\n",
    "    # You can use append() to build the result list\n",
    "    pass\n",
    "\n",
    "# Test data\n",
    "quarterly_sales = [\n",
    "    [\"Alice\", 1000, 1200, 1100, 1300],\n",
    "    [\"Bob\", 800, 900, 950, 1000],\n",
    "    [\"Charlie\", 1500, 1600, 1400, 1700],\n",
    "    [\"David\", 1200, 1100, 1300, 1400],\n",
    "    [\"Eve\", 900, 1000, 1050, 1100]\n",
    "]\n",
    "\n",
    "# Expected: Charlie should be #1 with highest total\n",
    "# top_performers = find_top_performers(quarterly_sales, 3)\n",
    "# print(f\"Top 3 performers: {top_performers}\")"
   ]
  }
 ],
 "metadata": {
  "kernelspec": {
   "display_name": "Python 3",
   "language": "python",
   "name": "python3"
  },
  "language_info": {
   "codemirror_mode": {
    "name": "ipython",
    "version": 3
   },
   "file_extension": ".py",
   "mimetype": "text/x-python",
   "name": "python",
   "nbconvert_exporter": "python",
   "pygments_lexer": "ipython3",
   "version": "3.13.5"
  }
 },
 "nbformat": 4,
 "nbformat_minor": 4
}
